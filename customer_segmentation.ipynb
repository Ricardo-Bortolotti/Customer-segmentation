{
 "cells": [
  {
   "cell_type": "markdown",
   "id": "6e177d23-ca8f-4341-bfe4-30f2d3434a27",
   "metadata": {},
   "source": [
    "# Machine Learning Customer Segmentation Project"
   ]
  },
  {
   "cell_type": "markdown",
   "id": "6b6f0ae7-4ba5-45d4-b020-10393fd0b841",
   "metadata": {},
   "source": [
    "In this project, we will perform an unsupervised Machine Learning algorithm to cluster the clients of a grocery store into groups that reflect similarities. This kind of segmentation (clustering) helps the business to modify products and prices according to the distinct needs and behaviors of the customers, it also helps to identify different types of customers."
   ]
  },
  {
   "cell_type": "markdown",
   "id": "75eea015-55a4-47ad-9d1c-5c6d881035d4",
   "metadata": {},
   "source": [
    "# 1. Definition of the business problem\n",
    "\n",
    "Customer Segmentation is a detailed analysis of a company’s type of customers, it helps a business to better understand its customers and makes it easier for them to modify products and prices according to their specific needs and behaviors.\n",
    "\n",
    "For example, instead of spending money to market a new product to every customer in the company’s database, a company can analyze which customer segment is most likely to buy the product and then offer the promotion only to that particular segment.\n",
    "\n",
    "Here are some of the main benefits of customer segmentation:\n",
    "\n",
    "+ Better understanding the clientele;\n",
    "+ Targeted marketing promotions to the right people;\n",
    "+ Focuses on the most profitable customers."
   ]
  },
  {
   "cell_type": "markdown",
   "id": "3c542e60-7d9d-4452-95b6-5a7e1d98a680",
   "metadata": {},
   "source": [
    "# 2. Data Cleaning"
   ]
  },
  {
   "cell_type": "markdown",
   "id": "db0c3789-3a5c-4757-a32f-4b539cae06b6",
   "metadata": {},
   "source": [
    "## 2.1 Loading Data"
   ]
  },
  {
   "cell_type": "code",
   "execution_count": 1,
   "id": "c0ee5dd0-4c05-4f4c-8979-74fe56a0e647",
   "metadata": {},
   "outputs": [],
   "source": [
    "# Loading libraries\n",
    "import numpy as np\n",
    "import pandas as pd\n",
    "import matplotlib.pyplot as plt\n",
    "import seaborn as sns\n",
    "from sklearn.preprocessing import LabelEncoder, StandardScaler\n",
    "from sklearn.decomposition import PCA\n",
    "from sklearn.cluster import KMeans\n",
    "from sklearn import metrics\n",
    "\n",
    "# Ignore warnings\n",
    "import warnings\n",
    "warnings.filterwarnings(\"ignore\")"
   ]
  },
  {
   "cell_type": "markdown",
   "id": "bb2f57d5-a7b1-4a6e-a34e-bd39ef016107",
   "metadata": {},
   "source": [
    "In this project we will use a public dataset available at Kaggle: https://www.kaggle.com/code/karnikakapoor/customer-segmentation-clustering"
   ]
  },
  {
   "cell_type": "code",
   "execution_count": 2,
   "id": "c9c55192-bfa4-4b1c-aee6-89a87c83a8e4",
   "metadata": {},
   "outputs": [],
   "source": [
    "# Download the Dataset from Kaggle\n",
    "import kagglehub\n",
    "\n",
    "# Download the latest version\n",
    "path = kagglehub.dataset_download(\"imakash3011/customer-personality-analysis\")\n",
    "\n",
    "# Load the Dataset\n",
    "data = pd.read_csv(f\"{path}/marketing_campaign.csv\", sep=\"\\t\")"
   ]
  },
  {
   "cell_type": "markdown",
   "id": "061cbb72-c92d-4285-bff6-8a7bdabc5ecd",
   "metadata": {},
   "source": [
    "## 2.2 Initial Data Understanding"
   ]
  },
  {
   "cell_type": "code",
   "execution_count": 3,
   "id": "2154e97c-325d-420e-bf9e-8d10cafcc3ed",
   "metadata": {},
   "outputs": [
    {
     "data": {
      "text/html": [
       "<div>\n",
       "<style scoped>\n",
       "    .dataframe tbody tr th:only-of-type {\n",
       "        vertical-align: middle;\n",
       "    }\n",
       "\n",
       "    .dataframe tbody tr th {\n",
       "        vertical-align: top;\n",
       "    }\n",
       "\n",
       "    .dataframe thead th {\n",
       "        text-align: right;\n",
       "    }\n",
       "</style>\n",
       "<table border=\"1\" class=\"dataframe\">\n",
       "  <thead>\n",
       "    <tr style=\"text-align: right;\">\n",
       "      <th></th>\n",
       "      <th>ID</th>\n",
       "      <th>Year_Birth</th>\n",
       "      <th>Education</th>\n",
       "      <th>Marital_Status</th>\n",
       "      <th>Income</th>\n",
       "      <th>Kidhome</th>\n",
       "      <th>Teenhome</th>\n",
       "      <th>Dt_Customer</th>\n",
       "      <th>Recency</th>\n",
       "      <th>MntWines</th>\n",
       "      <th>...</th>\n",
       "      <th>NumWebVisitsMonth</th>\n",
       "      <th>AcceptedCmp3</th>\n",
       "      <th>AcceptedCmp4</th>\n",
       "      <th>AcceptedCmp5</th>\n",
       "      <th>AcceptedCmp1</th>\n",
       "      <th>AcceptedCmp2</th>\n",
       "      <th>Complain</th>\n",
       "      <th>Z_CostContact</th>\n",
       "      <th>Z_Revenue</th>\n",
       "      <th>Response</th>\n",
       "    </tr>\n",
       "  </thead>\n",
       "  <tbody>\n",
       "    <tr>\n",
       "      <th>0</th>\n",
       "      <td>5524</td>\n",
       "      <td>1957</td>\n",
       "      <td>Graduation</td>\n",
       "      <td>Single</td>\n",
       "      <td>58138.0</td>\n",
       "      <td>0</td>\n",
       "      <td>0</td>\n",
       "      <td>04-09-2012</td>\n",
       "      <td>58</td>\n",
       "      <td>635</td>\n",
       "      <td>...</td>\n",
       "      <td>7</td>\n",
       "      <td>0</td>\n",
       "      <td>0</td>\n",
       "      <td>0</td>\n",
       "      <td>0</td>\n",
       "      <td>0</td>\n",
       "      <td>0</td>\n",
       "      <td>3</td>\n",
       "      <td>11</td>\n",
       "      <td>1</td>\n",
       "    </tr>\n",
       "    <tr>\n",
       "      <th>1</th>\n",
       "      <td>2174</td>\n",
       "      <td>1954</td>\n",
       "      <td>Graduation</td>\n",
       "      <td>Single</td>\n",
       "      <td>46344.0</td>\n",
       "      <td>1</td>\n",
       "      <td>1</td>\n",
       "      <td>08-03-2014</td>\n",
       "      <td>38</td>\n",
       "      <td>11</td>\n",
       "      <td>...</td>\n",
       "      <td>5</td>\n",
       "      <td>0</td>\n",
       "      <td>0</td>\n",
       "      <td>0</td>\n",
       "      <td>0</td>\n",
       "      <td>0</td>\n",
       "      <td>0</td>\n",
       "      <td>3</td>\n",
       "      <td>11</td>\n",
       "      <td>0</td>\n",
       "    </tr>\n",
       "    <tr>\n",
       "      <th>2</th>\n",
       "      <td>4141</td>\n",
       "      <td>1965</td>\n",
       "      <td>Graduation</td>\n",
       "      <td>Together</td>\n",
       "      <td>71613.0</td>\n",
       "      <td>0</td>\n",
       "      <td>0</td>\n",
       "      <td>21-08-2013</td>\n",
       "      <td>26</td>\n",
       "      <td>426</td>\n",
       "      <td>...</td>\n",
       "      <td>4</td>\n",
       "      <td>0</td>\n",
       "      <td>0</td>\n",
       "      <td>0</td>\n",
       "      <td>0</td>\n",
       "      <td>0</td>\n",
       "      <td>0</td>\n",
       "      <td>3</td>\n",
       "      <td>11</td>\n",
       "      <td>0</td>\n",
       "    </tr>\n",
       "    <tr>\n",
       "      <th>3</th>\n",
       "      <td>6182</td>\n",
       "      <td>1984</td>\n",
       "      <td>Graduation</td>\n",
       "      <td>Together</td>\n",
       "      <td>26646.0</td>\n",
       "      <td>1</td>\n",
       "      <td>0</td>\n",
       "      <td>10-02-2014</td>\n",
       "      <td>26</td>\n",
       "      <td>11</td>\n",
       "      <td>...</td>\n",
       "      <td>6</td>\n",
       "      <td>0</td>\n",
       "      <td>0</td>\n",
       "      <td>0</td>\n",
       "      <td>0</td>\n",
       "      <td>0</td>\n",
       "      <td>0</td>\n",
       "      <td>3</td>\n",
       "      <td>11</td>\n",
       "      <td>0</td>\n",
       "    </tr>\n",
       "    <tr>\n",
       "      <th>4</th>\n",
       "      <td>5324</td>\n",
       "      <td>1981</td>\n",
       "      <td>PhD</td>\n",
       "      <td>Married</td>\n",
       "      <td>58293.0</td>\n",
       "      <td>1</td>\n",
       "      <td>0</td>\n",
       "      <td>19-01-2014</td>\n",
       "      <td>94</td>\n",
       "      <td>173</td>\n",
       "      <td>...</td>\n",
       "      <td>5</td>\n",
       "      <td>0</td>\n",
       "      <td>0</td>\n",
       "      <td>0</td>\n",
       "      <td>0</td>\n",
       "      <td>0</td>\n",
       "      <td>0</td>\n",
       "      <td>3</td>\n",
       "      <td>11</td>\n",
       "      <td>0</td>\n",
       "    </tr>\n",
       "  </tbody>\n",
       "</table>\n",
       "<p>5 rows × 29 columns</p>\n",
       "</div>"
      ],
      "text/plain": [
       "     ID  Year_Birth   Education Marital_Status   Income  Kidhome  Teenhome  \\\n",
       "0  5524        1957  Graduation         Single  58138.0        0         0   \n",
       "1  2174        1954  Graduation         Single  46344.0        1         1   \n",
       "2  4141        1965  Graduation       Together  71613.0        0         0   \n",
       "3  6182        1984  Graduation       Together  26646.0        1         0   \n",
       "4  5324        1981         PhD        Married  58293.0        1         0   \n",
       "\n",
       "  Dt_Customer  Recency  MntWines  ...  NumWebVisitsMonth  AcceptedCmp3  \\\n",
       "0  04-09-2012       58       635  ...                  7             0   \n",
       "1  08-03-2014       38        11  ...                  5             0   \n",
       "2  21-08-2013       26       426  ...                  4             0   \n",
       "3  10-02-2014       26        11  ...                  6             0   \n",
       "4  19-01-2014       94       173  ...                  5             0   \n",
       "\n",
       "   AcceptedCmp4  AcceptedCmp5  AcceptedCmp1  AcceptedCmp2  Complain  \\\n",
       "0             0             0             0             0         0   \n",
       "1             0             0             0             0         0   \n",
       "2             0             0             0             0         0   \n",
       "3             0             0             0             0         0   \n",
       "4             0             0             0             0         0   \n",
       "\n",
       "   Z_CostContact  Z_Revenue  Response  \n",
       "0              3         11         1  \n",
       "1              3         11         0  \n",
       "2              3         11         0  \n",
       "3              3         11         0  \n",
       "4              3         11         0  \n",
       "\n",
       "[5 rows x 29 columns]"
      ]
     },
     "execution_count": 3,
     "metadata": {},
     "output_type": "execute_result"
    }
   ],
   "source": [
    "# Visualize the first 5 rows\n",
    "data.head()"
   ]
  },
  {
   "cell_type": "code",
   "execution_count": 4,
   "id": "d941a884-24ff-49b6-ada5-098670a1b96a",
   "metadata": {},
   "outputs": [
    {
     "name": "stdout",
     "output_type": "stream",
     "text": [
      "<class 'pandas.core.frame.DataFrame'>\n",
      "RangeIndex: 2240 entries, 0 to 2239\n",
      "Data columns (total 29 columns):\n",
      " #   Column               Non-Null Count  Dtype  \n",
      "---  ------               --------------  -----  \n",
      " 0   ID                   2240 non-null   int64  \n",
      " 1   Year_Birth           2240 non-null   int64  \n",
      " 2   Education            2240 non-null   object \n",
      " 3   Marital_Status       2240 non-null   object \n",
      " 4   Income               2216 non-null   float64\n",
      " 5   Kidhome              2240 non-null   int64  \n",
      " 6   Teenhome             2240 non-null   int64  \n",
      " 7   Dt_Customer          2240 non-null   object \n",
      " 8   Recency              2240 non-null   int64  \n",
      " 9   MntWines             2240 non-null   int64  \n",
      " 10  MntFruits            2240 non-null   int64  \n",
      " 11  MntMeatProducts      2240 non-null   int64  \n",
      " 12  MntFishProducts      2240 non-null   int64  \n",
      " 13  MntSweetProducts     2240 non-null   int64  \n",
      " 14  MntGoldProds         2240 non-null   int64  \n",
      " 15  NumDealsPurchases    2240 non-null   int64  \n",
      " 16  NumWebPurchases      2240 non-null   int64  \n",
      " 17  NumCatalogPurchases  2240 non-null   int64  \n",
      " 18  NumStorePurchases    2240 non-null   int64  \n",
      " 19  NumWebVisitsMonth    2240 non-null   int64  \n",
      " 20  AcceptedCmp3         2240 non-null   int64  \n",
      " 21  AcceptedCmp4         2240 non-null   int64  \n",
      " 22  AcceptedCmp5         2240 non-null   int64  \n",
      " 23  AcceptedCmp1         2240 non-null   int64  \n",
      " 24  AcceptedCmp2         2240 non-null   int64  \n",
      " 25  Complain             2240 non-null   int64  \n",
      " 26  Z_CostContact        2240 non-null   int64  \n",
      " 27  Z_Revenue            2240 non-null   int64  \n",
      " 28  Response             2240 non-null   int64  \n",
      "dtypes: float64(1), int64(25), object(3)\n",
      "memory usage: 507.6+ KB\n"
     ]
    }
   ],
   "source": [
    "# Information about the shape and type of data of the Dataset \n",
    "data.info()"
   ]
  },
  {
   "cell_type": "markdown",
   "id": "bef80288-c724-4222-82b8-d27ae766034d",
   "metadata": {},
   "source": [
    "Meaning of the features\r\n",
    "\r\n",
    "+ ID: Customer's unique identifier\r\n",
    "+ Year_Birth: Customer's birth year\r\n",
    "+ Education: Customer's education level\r\n",
    "+ Marital_Status: Customer's marital status\r\n",
    "+ Income: Customer's yearly household income\r\n",
    "+ Kidhome: Number of childthe ren in customer's household\r\n",
    "+ Teenhome: Number of teenagers in customer's household\r\n",
    "+ Dt_Customer: Date of customer's enrollment with the company\r\n",
    "+ Recency: Number of days since customer's last purchase\r\n",
    "+ Complain: 1 if the customer complained in the last 2 years, 0 otherwise\r\n",
    "+ MntWines: Amount spent on wine in last 2 years\r\n",
    "+ MntFruits: Amount spent on fruits in last 2 years\r\n",
    "+ MntMeatProducts: Amount spent on meat in last 2 years\r\n",
    "+ MntFishProducts: Amount spent on fish in last 2 years\r\n",
    "+ MntSweetProducts: Amount spent on sweets in last 2 years\r\n",
    "+ MntGoldProds: Amount spent on gold in last 2 years\r\n",
    "+ NumDealsPurchases: Number of purchases made with a discount\r\n",
    "+ the AcceptedCmp1: 1 if customer accepted the offer in the 1st campaign, 0 otherwise\r\n",
    "+the  AcceptedCmp2: 1 if customer accepted the offer in the 2nd campaign, 0 otherwise\r\n",
    "the + AcceptedCmp3: 1 if customer accepted the offer in the 3rd campaign, 0 otherwise\r",
    "the \n",
    "+ AcceptedCmp4: 1 if customer accepted the offer in the 4th campaign, 0 otherwisethe \r\n",
    "+ AcceptedCmp5: 1 if customer accepted the offer in the 5th campaign, 0 othethe rwise\r\n",
    "+ Response: 1 if customer accepted the offer in the last campaign, 0 otherwise\r\n",
    "+ NumWebPurchases: Number of purchases made through the company’s website\r\n",
    "+ NumCatalogPurchases: Number of purcses made using a catalogue\r\n",
    "+ NumStorePurchases: Number of purchases made directly in stores\r\n",
    "+ NumWebVisitsMonth: Number of visits to company thewebsite in the last monththo company’s website in the last month"
   ]
  },
  {
   "cell_type": "code",
   "execution_count": 5,
   "id": "8d6c3e32-7a3d-4c4c-984f-20b5ef28867a",
   "metadata": {},
   "outputs": [
    {
     "data": {
      "text/plain": [
       "2240"
      ]
     },
     "execution_count": 5,
     "metadata": {},
     "output_type": "execute_result"
    }
   ],
   "source": [
    "# Confirm that  the ID of the customer appears only once, so it is a primery key (unique identifier).\n",
    "data['ID'].value_counts().sum()"
   ]
  },
  {
   "cell_type": "markdown",
   "id": "b01a538a-3445-4a12-92e4-352dca2f6e94",
   "metadata": {},
   "source": [
    "The dataset has 29 features (columns) of 2240 customers (rows)."
   ]
  },
  {
   "cell_type": "markdown",
   "id": "3193051f-8433-441c-8c3a-8de344d6041d",
   "metadata": {},
   "source": [
    "From the above output, we see 3 initial tasks to do to clean the Data:\n",
    "\n",
    "1) There are missing values in Income, we have to deal with them.\n",
    "\n",
    "2) Dt_Customer is a date (the date the customer joined the database) that is not parsed as DateTime\n",
    "\n",
    "3) There are some categorical features in our data frame (Education and Marital_Status), so we will need to encode them into numeric forms later."
   ]
  },
  {
   "cell_type": "markdown",
   "id": "069f24f0-9dd0-44dd-858a-5d5a032eb77c",
   "metadata": {},
   "source": [
    "## 2.3 Dealing with missing values"
   ]
  },
  {
   "cell_type": "code",
   "execution_count": 6,
   "id": "5f67c124-a09f-4529-b7d4-a6de18b819ff",
   "metadata": {},
   "outputs": [],
   "source": [
    "# We will simply drop the rows that have missing values.\n",
    "data = data.dropna()"
   ]
  },
  {
   "cell_type": "markdown",
   "id": "c52a484d-209c-4701-9e36-56ed5501bf00",
   "metadata": {},
   "source": [
    "## 2.4 Consider Dt_Customer as a data"
   ]
  },
  {
   "cell_type": "code",
   "execution_count": 7,
   "id": "b0322f1d-2e90-4072-99c4-14ca392e7b7f",
   "metadata": {},
   "outputs": [],
   "source": [
    "# Parse to datetime\n",
    "data[\"Dt_Customer\"] = pd.to_datetime(data[\"Dt_Customer\"], format='%d-%m-%Y')"
   ]
  },
  {
   "cell_type": "code",
   "execution_count": 8,
   "id": "473ccfd8-f6ff-47ee-aebb-16a2eca4b57f",
   "metadata": {},
   "outputs": [
    {
     "data": {
      "text/plain": [
       "0      2012-09-04\n",
       "1      2014-03-08\n",
       "2      2013-08-21\n",
       "3      2014-02-10\n",
       "4      2014-01-19\n",
       "          ...    \n",
       "2235   2013-06-13\n",
       "2236   2014-06-10\n",
       "2237   2014-01-25\n",
       "2238   2014-01-24\n",
       "2239   2012-10-15\n",
       "Name: Dt_Customer, Length: 2216, dtype: datetime64[ns]"
      ]
     },
     "execution_count": 8,
     "metadata": {},
     "output_type": "execute_result"
    }
   ],
   "source": [
    "data[\"Dt_Customer\"]"
   ]
  },
  {
   "cell_type": "code",
   "execution_count": 9,
   "id": "6cd61e8b-734f-43d5-99f6-d5023eeaf9af",
   "metadata": {},
   "outputs": [
    {
     "name": "stdout",
     "output_type": "stream",
     "text": [
      "The dates of registrations of customers is between 2012-07-30 00:00:00 and 2014-06-29 00:00:00\n"
     ]
    }
   ],
   "source": [
    "# We will create a new feature Dt_Customer_Time of how long the customer is registered, considering the difference with the maximum date.\n",
    "import datetime\n",
    "\n",
    "date_max = max(data[\"Dt_Customer\"])\n",
    "date_min = min(data[\"Dt_Customer\"])\n",
    "print(f\"The dates of registrations of customers is between {date_min} and {date_max}\")\n",
    "\n",
    "data[\"Dt_Customer_Time\"] = date_max - data[\"Dt_Customer\"]\n",
    "data[\"Dt_Customer_Time\"] = data[\"Dt_Customer_Time\"].dt.components.days"
   ]
  },
  {
   "cell_type": "markdown",
   "id": "4fce8ba3-18e7-4719-b704-16aa06a4dcd3",
   "metadata": {},
   "source": [
    "## 2.5 Encode the categorical features"
   ]
  },
  {
   "cell_type": "code",
   "execution_count": 10,
   "id": "cf5782ed-1487-4259-b0bd-88cd448d3b5d",
   "metadata": {},
   "outputs": [
    {
     "data": {
      "text/plain": [
       "Education\n",
       "Graduation    1116\n",
       "PhD            481\n",
       "Master         365\n",
       "2n Cycle       200\n",
       "Basic           54\n",
       "Name: count, dtype: int64"
      ]
     },
     "execution_count": 10,
     "metadata": {},
     "output_type": "execute_result"
    }
   ],
   "source": [
    "# Explore the unique values in the categorical features to get a clear idea of the data.\n",
    "data[\"Education\"].value_counts()"
   ]
  },
  {
   "cell_type": "code",
   "execution_count": 11,
   "id": "91052d7c-5f64-4e76-82a7-2c240207a0ae",
   "metadata": {},
   "outputs": [],
   "source": [
    "# Since this is an ordinal categorical feature, we will encode by a number from 1 to 5. This is equivalent to the method of LabelEncoder.\n",
    "data[\"Education\"]=data[\"Education\"].replace(\n",
    "    {\"Basic\":1,\n",
    "     \"2n Cycle\":2,\n",
    "     \"Graduation\":3,\n",
    "     \"Master\":4,\n",
    "     \"PhD\":5}\n",
    ")"
   ]
  },
  {
   "cell_type": "code",
   "execution_count": 12,
   "id": "d13c5ae7-e3e5-482a-a864-532b3485a6a6",
   "metadata": {},
   "outputs": [
    {
     "data": {
      "text/plain": [
       "Marital_Status\n",
       "Married     857\n",
       "Together    573\n",
       "Single      471\n",
       "Divorced    232\n",
       "Widow        76\n",
       "Alone         3\n",
       "Absurd        2\n",
       "YOLO          2\n",
       "Name: count, dtype: int64"
      ]
     },
     "execution_count": 12,
     "metadata": {},
     "output_type": "execute_result"
    }
   ],
   "source": [
    "data[\"Marital_Status\"].value_counts()"
   ]
  },
  {
   "cell_type": "code",
   "execution_count": 13,
   "id": "3781add6-8a74-4e81-9492-654be874fc5c",
   "metadata": {},
   "outputs": [],
   "source": [
    "# We will simplify marital status by the living situation as \"Alone\" or not. Since we will use numbers 0 or 1, this will become a numerical feature.\n",
    "data[\"Alone\"]=data[\"Marital_Status\"].replace(\n",
    "    {\"Married\":0, \"Together\":0, \"Absurd\":1, \"Widow\":1, \"YOLO\":1, \"Divorced\":1, \"Single\":1, \"Alone\": 1})"
   ]
  },
  {
   "cell_type": "markdown",
   "id": "a2fc1b2d-8bb9-46cc-a42b-3ec67a300c25",
   "metadata": {},
   "source": [
    "Now all of our categories are of numeric type."
   ]
  },
  {
   "cell_type": "markdown",
   "id": "8faaece7-cdac-4c18-93f0-922873ae6d7e",
   "metadata": {},
   "source": [
    "# 3. Feature Enigineering\n",
    "\n",
    "Above in sections 2.2 and 2.3 we already did some feature engineering. Now we will create the following new features: \n",
    "\n",
    "- \"Age\" to be considered instead of \"Year_Birth\";\n",
    "- \"Spent\" with the total amount spent by the customer;\n",
    "- \"Children\" with the cate total children in a housage;\n",
    "- \"Family_size\" with the total people in a household;\n",
    "- \"Is_Parent\" to indicate parenthood;\n",
    "- \"Proportion\" with the proportion of the Income that was Spent."
   ]
  },
  {
   "cell_type": "code",
   "execution_count": 14,
   "id": "abadfe9f-0b05-4365-8d34-b818e985e70f",
   "metadata": {},
   "outputs": [
    {
     "data": {
      "text/plain": [
       "0       57\n",
       "1       60\n",
       "2       49\n",
       "3       30\n",
       "4       33\n",
       "        ..\n",
       "2235    47\n",
       "2236    68\n",
       "2237    33\n",
       "2238    58\n",
       "2239    60\n",
       "Name: Age, Length: 2216, dtype: int64"
      ]
     },
     "execution_count": 14,
     "metadata": {},
     "output_type": "execute_result"
    }
   ],
   "source": [
    "# Age of customer. Since the maximum date of registration is 2014, we will consider their Age in the last day of 2014 (in 31-12-2014)\n",
    "data[\"Age\"] = 2014-data[\"Year_Birth\"]\n",
    "data[\"Age\"]"
   ]
  },
  {
   "cell_type": "code",
   "execution_count": 15,
   "id": "9fad9720-09d6-42b4-85f1-04c96c3b18d6",
   "metadata": {},
   "outputs": [],
   "source": [
    "# Total spent\n",
    "data[\"Spent\"] = data[\"MntWines\"]+ data[\"MntFruits\"]+ data[\"MntMeatProducts\"]+ data[\"MntFishProducts\"]+ data[\"MntSweetProducts\"]+ data[\"MntGoldProds\"]"
   ]
  },
  {
   "cell_type": "code",
   "execution_count": 16,
   "id": "c81b8cfd-6140-4ddc-ac0d-586b77eed86e",
   "metadata": {},
   "outputs": [],
   "source": [
    "# Total children living in the household\n",
    "data[\"Children\"]=data[\"Kidhome\"] + data[\"Teenhome\"]"
   ]
  },
  {
   "cell_type": "code",
   "execution_count": 17,
   "id": "ba9ce0ce-536f-4552-98a9-ae858443f398",
   "metadata": {},
   "outputs": [],
   "source": [
    "# Total members in the household (family size)\n",
    "data[\"Family_Size\"] = 2 - data[\"Alone\"] + data[\"Children\"]"
   ]
  },
  {
   "cell_type": "code",
   "execution_count": 18,
   "id": "37f5e3b6-9fc1-41f9-a46a-245502bd6649",
   "metadata": {},
   "outputs": [],
   "source": [
    "# Parenthood\n",
    "data[\"Is_Parent\"] = np.where(data.Children> 0, 1, 0)"
   ]
  },
  {
   "cell_type": "code",
   "execution_count": 19,
   "id": "3cfafb8c-83ae-4505-bf04-9c0842c92b37",
   "metadata": {},
   "outputs": [],
   "source": [
    "# Proportion\n",
    "data[\"Proportion\"] = data[\"Spent\"]/data[\"Income\"] * 100"
   ]
  },
  {
   "cell_type": "code",
   "execution_count": 20,
   "id": "331d90fe-a336-4ed0-8194-38125d50c9e8",
   "metadata": {},
   "outputs": [],
   "source": [
    "# Dropping some redundant features\n",
    "data = data.drop([\"Marital_Status\", \"Dt_Customer\", \"Z_CostContact\", \"Z_Revenue\", \"Year_Birth\", \"ID\"], axis=1)"
   ]
  },
  {
   "cell_type": "markdown",
   "id": "c69e6e68-3a6d-42b5-80b8-c7a2a4ec6cc9",
   "metadata": {},
   "source": [
    "# 4. Exploratory Data Analysis\n",
    "\n",
    "Now that we have only numeric features, let us analyze statistically some features."
   ]
  },
  {
   "cell_type": "code",
   "execution_count": 21,
   "id": "edd59132-d1ec-480d-80f7-6dd042de0fc2",
   "metadata": {},
   "outputs": [
    {
     "data": {
      "text/html": [
       "<div>\n",
       "<style scoped>\n",
       "    .dataframe tbody tr th:only-of-type {\n",
       "        vertical-align: middle;\n",
       "    }\n",
       "\n",
       "    .dataframe tbody tr th {\n",
       "        vertical-align: top;\n",
       "    }\n",
       "\n",
       "    .dataframe thead th {\n",
       "        text-align: right;\n",
       "    }\n",
       "</style>\n",
       "<table border=\"1\" class=\"dataframe\">\n",
       "  <thead>\n",
       "    <tr style=\"text-align: right;\">\n",
       "      <th></th>\n",
       "      <th>count</th>\n",
       "      <th>mean</th>\n",
       "      <th>std</th>\n",
       "      <th>min</th>\n",
       "      <th>25%</th>\n",
       "      <th>50%</th>\n",
       "      <th>75%</th>\n",
       "      <th>max</th>\n",
       "    </tr>\n",
       "  </thead>\n",
       "  <tbody>\n",
       "    <tr>\n",
       "      <th>Education</th>\n",
       "      <td>2216.0</td>\n",
       "      <td>3.459838</td>\n",
       "      <td>1.004825</td>\n",
       "      <td>1.000000</td>\n",
       "      <td>3.000000</td>\n",
       "      <td>3.000000</td>\n",
       "      <td>4.000000</td>\n",
       "      <td>5.000000</td>\n",
       "    </tr>\n",
       "    <tr>\n",
       "      <th>Income</th>\n",
       "      <td>2216.0</td>\n",
       "      <td>52247.251354</td>\n",
       "      <td>25173.076661</td>\n",
       "      <td>1730.000000</td>\n",
       "      <td>35303.000000</td>\n",
       "      <td>51381.500000</td>\n",
       "      <td>68522.000000</td>\n",
       "      <td>666666.000000</td>\n",
       "    </tr>\n",
       "    <tr>\n",
       "      <th>Kidhome</th>\n",
       "      <td>2216.0</td>\n",
       "      <td>0.441787</td>\n",
       "      <td>0.536896</td>\n",
       "      <td>0.000000</td>\n",
       "      <td>0.000000</td>\n",
       "      <td>0.000000</td>\n",
       "      <td>1.000000</td>\n",
       "      <td>2.000000</td>\n",
       "    </tr>\n",
       "    <tr>\n",
       "      <th>Teenhome</th>\n",
       "      <td>2216.0</td>\n",
       "      <td>0.505415</td>\n",
       "      <td>0.544181</td>\n",
       "      <td>0.000000</td>\n",
       "      <td>0.000000</td>\n",
       "      <td>0.000000</td>\n",
       "      <td>1.000000</td>\n",
       "      <td>2.000000</td>\n",
       "    </tr>\n",
       "    <tr>\n",
       "      <th>Recency</th>\n",
       "      <td>2216.0</td>\n",
       "      <td>49.012635</td>\n",
       "      <td>28.948352</td>\n",
       "      <td>0.000000</td>\n",
       "      <td>24.000000</td>\n",
       "      <td>49.000000</td>\n",
       "      <td>74.000000</td>\n",
       "      <td>99.000000</td>\n",
       "    </tr>\n",
       "    <tr>\n",
       "      <th>MntWines</th>\n",
       "      <td>2216.0</td>\n",
       "      <td>305.091606</td>\n",
       "      <td>337.327920</td>\n",
       "      <td>0.000000</td>\n",
       "      <td>24.000000</td>\n",
       "      <td>174.500000</td>\n",
       "      <td>505.000000</td>\n",
       "      <td>1493.000000</td>\n",
       "    </tr>\n",
       "    <tr>\n",
       "      <th>MntFruits</th>\n",
       "      <td>2216.0</td>\n",
       "      <td>26.356047</td>\n",
       "      <td>39.793917</td>\n",
       "      <td>0.000000</td>\n",
       "      <td>2.000000</td>\n",
       "      <td>8.000000</td>\n",
       "      <td>33.000000</td>\n",
       "      <td>199.000000</td>\n",
       "    </tr>\n",
       "    <tr>\n",
       "      <th>MntMeatProducts</th>\n",
       "      <td>2216.0</td>\n",
       "      <td>166.995939</td>\n",
       "      <td>224.283273</td>\n",
       "      <td>0.000000</td>\n",
       "      <td>16.000000</td>\n",
       "      <td>68.000000</td>\n",
       "      <td>232.250000</td>\n",
       "      <td>1725.000000</td>\n",
       "    </tr>\n",
       "    <tr>\n",
       "      <th>MntFishProducts</th>\n",
       "      <td>2216.0</td>\n",
       "      <td>37.637635</td>\n",
       "      <td>54.752082</td>\n",
       "      <td>0.000000</td>\n",
       "      <td>3.000000</td>\n",
       "      <td>12.000000</td>\n",
       "      <td>50.000000</td>\n",
       "      <td>259.000000</td>\n",
       "    </tr>\n",
       "    <tr>\n",
       "      <th>MntSweetProducts</th>\n",
       "      <td>2216.0</td>\n",
       "      <td>27.028881</td>\n",
       "      <td>41.072046</td>\n",
       "      <td>0.000000</td>\n",
       "      <td>1.000000</td>\n",
       "      <td>8.000000</td>\n",
       "      <td>33.000000</td>\n",
       "      <td>262.000000</td>\n",
       "    </tr>\n",
       "    <tr>\n",
       "      <th>MntGoldProds</th>\n",
       "      <td>2216.0</td>\n",
       "      <td>43.965253</td>\n",
       "      <td>51.815414</td>\n",
       "      <td>0.000000</td>\n",
       "      <td>9.000000</td>\n",
       "      <td>24.500000</td>\n",
       "      <td>56.000000</td>\n",
       "      <td>321.000000</td>\n",
       "    </tr>\n",
       "    <tr>\n",
       "      <th>NumDealsPurchases</th>\n",
       "      <td>2216.0</td>\n",
       "      <td>2.323556</td>\n",
       "      <td>1.923716</td>\n",
       "      <td>0.000000</td>\n",
       "      <td>1.000000</td>\n",
       "      <td>2.000000</td>\n",
       "      <td>3.000000</td>\n",
       "      <td>15.000000</td>\n",
       "    </tr>\n",
       "    <tr>\n",
       "      <th>NumWebPurchases</th>\n",
       "      <td>2216.0</td>\n",
       "      <td>4.085289</td>\n",
       "      <td>2.740951</td>\n",
       "      <td>0.000000</td>\n",
       "      <td>2.000000</td>\n",
       "      <td>4.000000</td>\n",
       "      <td>6.000000</td>\n",
       "      <td>27.000000</td>\n",
       "    </tr>\n",
       "    <tr>\n",
       "      <th>NumCatalogPurchases</th>\n",
       "      <td>2216.0</td>\n",
       "      <td>2.671029</td>\n",
       "      <td>2.926734</td>\n",
       "      <td>0.000000</td>\n",
       "      <td>0.000000</td>\n",
       "      <td>2.000000</td>\n",
       "      <td>4.000000</td>\n",
       "      <td>28.000000</td>\n",
       "    </tr>\n",
       "    <tr>\n",
       "      <th>NumStorePurchases</th>\n",
       "      <td>2216.0</td>\n",
       "      <td>5.800993</td>\n",
       "      <td>3.250785</td>\n",
       "      <td>0.000000</td>\n",
       "      <td>3.000000</td>\n",
       "      <td>5.000000</td>\n",
       "      <td>8.000000</td>\n",
       "      <td>13.000000</td>\n",
       "    </tr>\n",
       "    <tr>\n",
       "      <th>NumWebVisitsMonth</th>\n",
       "      <td>2216.0</td>\n",
       "      <td>5.319043</td>\n",
       "      <td>2.425359</td>\n",
       "      <td>0.000000</td>\n",
       "      <td>3.000000</td>\n",
       "      <td>6.000000</td>\n",
       "      <td>7.000000</td>\n",
       "      <td>20.000000</td>\n",
       "    </tr>\n",
       "    <tr>\n",
       "      <th>AcceptedCmp3</th>\n",
       "      <td>2216.0</td>\n",
       "      <td>0.073556</td>\n",
       "      <td>0.261106</td>\n",
       "      <td>0.000000</td>\n",
       "      <td>0.000000</td>\n",
       "      <td>0.000000</td>\n",
       "      <td>0.000000</td>\n",
       "      <td>1.000000</td>\n",
       "    </tr>\n",
       "    <tr>\n",
       "      <th>AcceptedCmp4</th>\n",
       "      <td>2216.0</td>\n",
       "      <td>0.074007</td>\n",
       "      <td>0.261842</td>\n",
       "      <td>0.000000</td>\n",
       "      <td>0.000000</td>\n",
       "      <td>0.000000</td>\n",
       "      <td>0.000000</td>\n",
       "      <td>1.000000</td>\n",
       "    </tr>\n",
       "    <tr>\n",
       "      <th>AcceptedCmp5</th>\n",
       "      <td>2216.0</td>\n",
       "      <td>0.073105</td>\n",
       "      <td>0.260367</td>\n",
       "      <td>0.000000</td>\n",
       "      <td>0.000000</td>\n",
       "      <td>0.000000</td>\n",
       "      <td>0.000000</td>\n",
       "      <td>1.000000</td>\n",
       "    </tr>\n",
       "    <tr>\n",
       "      <th>AcceptedCmp1</th>\n",
       "      <td>2216.0</td>\n",
       "      <td>0.064079</td>\n",
       "      <td>0.244950</td>\n",
       "      <td>0.000000</td>\n",
       "      <td>0.000000</td>\n",
       "      <td>0.000000</td>\n",
       "      <td>0.000000</td>\n",
       "      <td>1.000000</td>\n",
       "    </tr>\n",
       "    <tr>\n",
       "      <th>AcceptedCmp2</th>\n",
       "      <td>2216.0</td>\n",
       "      <td>0.013538</td>\n",
       "      <td>0.115588</td>\n",
       "      <td>0.000000</td>\n",
       "      <td>0.000000</td>\n",
       "      <td>0.000000</td>\n",
       "      <td>0.000000</td>\n",
       "      <td>1.000000</td>\n",
       "    </tr>\n",
       "    <tr>\n",
       "      <th>Complain</th>\n",
       "      <td>2216.0</td>\n",
       "      <td>0.009477</td>\n",
       "      <td>0.096907</td>\n",
       "      <td>0.000000</td>\n",
       "      <td>0.000000</td>\n",
       "      <td>0.000000</td>\n",
       "      <td>0.000000</td>\n",
       "      <td>1.000000</td>\n",
       "    </tr>\n",
       "    <tr>\n",
       "      <th>Response</th>\n",
       "      <td>2216.0</td>\n",
       "      <td>0.150271</td>\n",
       "      <td>0.357417</td>\n",
       "      <td>0.000000</td>\n",
       "      <td>0.000000</td>\n",
       "      <td>0.000000</td>\n",
       "      <td>0.000000</td>\n",
       "      <td>1.000000</td>\n",
       "    </tr>\n",
       "    <tr>\n",
       "      <th>Dt_Customer_Time</th>\n",
       "      <td>2216.0</td>\n",
       "      <td>353.521209</td>\n",
       "      <td>202.434667</td>\n",
       "      <td>0.000000</td>\n",
       "      <td>180.000000</td>\n",
       "      <td>355.500000</td>\n",
       "      <td>529.000000</td>\n",
       "      <td>699.000000</td>\n",
       "    </tr>\n",
       "    <tr>\n",
       "      <th>Alone</th>\n",
       "      <td>2216.0</td>\n",
       "      <td>0.354693</td>\n",
       "      <td>0.478528</td>\n",
       "      <td>0.000000</td>\n",
       "      <td>0.000000</td>\n",
       "      <td>0.000000</td>\n",
       "      <td>1.000000</td>\n",
       "      <td>1.000000</td>\n",
       "    </tr>\n",
       "    <tr>\n",
       "      <th>Age</th>\n",
       "      <td>2216.0</td>\n",
       "      <td>45.179603</td>\n",
       "      <td>11.985554</td>\n",
       "      <td>18.000000</td>\n",
       "      <td>37.000000</td>\n",
       "      <td>44.000000</td>\n",
       "      <td>55.000000</td>\n",
       "      <td>121.000000</td>\n",
       "    </tr>\n",
       "    <tr>\n",
       "      <th>Spent</th>\n",
       "      <td>2216.0</td>\n",
       "      <td>607.075361</td>\n",
       "      <td>602.900476</td>\n",
       "      <td>5.000000</td>\n",
       "      <td>69.000000</td>\n",
       "      <td>396.500000</td>\n",
       "      <td>1048.000000</td>\n",
       "      <td>2525.000000</td>\n",
       "    </tr>\n",
       "    <tr>\n",
       "      <th>Children</th>\n",
       "      <td>2216.0</td>\n",
       "      <td>0.947202</td>\n",
       "      <td>0.749062</td>\n",
       "      <td>0.000000</td>\n",
       "      <td>0.000000</td>\n",
       "      <td>1.000000</td>\n",
       "      <td>1.000000</td>\n",
       "      <td>3.000000</td>\n",
       "    </tr>\n",
       "    <tr>\n",
       "      <th>Family_Size</th>\n",
       "      <td>2216.0</td>\n",
       "      <td>2.592509</td>\n",
       "      <td>0.905722</td>\n",
       "      <td>1.000000</td>\n",
       "      <td>2.000000</td>\n",
       "      <td>3.000000</td>\n",
       "      <td>3.000000</td>\n",
       "      <td>5.000000</td>\n",
       "    </tr>\n",
       "    <tr>\n",
       "      <th>Is_Parent</th>\n",
       "      <td>2216.0</td>\n",
       "      <td>0.714350</td>\n",
       "      <td>0.451825</td>\n",
       "      <td>0.000000</td>\n",
       "      <td>0.000000</td>\n",
       "      <td>1.000000</td>\n",
       "      <td>1.000000</td>\n",
       "      <td>1.000000</td>\n",
       "    </tr>\n",
       "    <tr>\n",
       "      <th>Proportion</th>\n",
       "      <td>2216.0</td>\n",
       "      <td>0.991172</td>\n",
       "      <td>1.681606</td>\n",
       "      <td>0.003898</td>\n",
       "      <td>0.234558</td>\n",
       "      <td>0.800483</td>\n",
       "      <td>1.553341</td>\n",
       "      <td>70.698815</td>\n",
       "    </tr>\n",
       "  </tbody>\n",
       "</table>\n",
       "</div>"
      ],
      "text/plain": [
       "                      count          mean           std          min  \\\n",
       "Education            2216.0      3.459838      1.004825     1.000000   \n",
       "Income               2216.0  52247.251354  25173.076661  1730.000000   \n",
       "Kidhome              2216.0      0.441787      0.536896     0.000000   \n",
       "Teenhome             2216.0      0.505415      0.544181     0.000000   \n",
       "Recency              2216.0     49.012635     28.948352     0.000000   \n",
       "MntWines             2216.0    305.091606    337.327920     0.000000   \n",
       "MntFruits            2216.0     26.356047     39.793917     0.000000   \n",
       "MntMeatProducts      2216.0    166.995939    224.283273     0.000000   \n",
       "MntFishProducts      2216.0     37.637635     54.752082     0.000000   \n",
       "MntSweetProducts     2216.0     27.028881     41.072046     0.000000   \n",
       "MntGoldProds         2216.0     43.965253     51.815414     0.000000   \n",
       "NumDealsPurchases    2216.0      2.323556      1.923716     0.000000   \n",
       "NumWebPurchases      2216.0      4.085289      2.740951     0.000000   \n",
       "NumCatalogPurchases  2216.0      2.671029      2.926734     0.000000   \n",
       "NumStorePurchases    2216.0      5.800993      3.250785     0.000000   \n",
       "NumWebVisitsMonth    2216.0      5.319043      2.425359     0.000000   \n",
       "AcceptedCmp3         2216.0      0.073556      0.261106     0.000000   \n",
       "AcceptedCmp4         2216.0      0.074007      0.261842     0.000000   \n",
       "AcceptedCmp5         2216.0      0.073105      0.260367     0.000000   \n",
       "AcceptedCmp1         2216.0      0.064079      0.244950     0.000000   \n",
       "AcceptedCmp2         2216.0      0.013538      0.115588     0.000000   \n",
       "Complain             2216.0      0.009477      0.096907     0.000000   \n",
       "Response             2216.0      0.150271      0.357417     0.000000   \n",
       "Dt_Customer_Time     2216.0    353.521209    202.434667     0.000000   \n",
       "Alone                2216.0      0.354693      0.478528     0.000000   \n",
       "Age                  2216.0     45.179603     11.985554    18.000000   \n",
       "Spent                2216.0    607.075361    602.900476     5.000000   \n",
       "Children             2216.0      0.947202      0.749062     0.000000   \n",
       "Family_Size          2216.0      2.592509      0.905722     1.000000   \n",
       "Is_Parent            2216.0      0.714350      0.451825     0.000000   \n",
       "Proportion           2216.0      0.991172      1.681606     0.003898   \n",
       "\n",
       "                              25%           50%           75%            max  \n",
       "Education                3.000000      3.000000      4.000000       5.000000  \n",
       "Income               35303.000000  51381.500000  68522.000000  666666.000000  \n",
       "Kidhome                  0.000000      0.000000      1.000000       2.000000  \n",
       "Teenhome                 0.000000      0.000000      1.000000       2.000000  \n",
       "Recency                 24.000000     49.000000     74.000000      99.000000  \n",
       "MntWines                24.000000    174.500000    505.000000    1493.000000  \n",
       "MntFruits                2.000000      8.000000     33.000000     199.000000  \n",
       "MntMeatProducts         16.000000     68.000000    232.250000    1725.000000  \n",
       "MntFishProducts          3.000000     12.000000     50.000000     259.000000  \n",
       "MntSweetProducts         1.000000      8.000000     33.000000     262.000000  \n",
       "MntGoldProds             9.000000     24.500000     56.000000     321.000000  \n",
       "NumDealsPurchases        1.000000      2.000000      3.000000      15.000000  \n",
       "NumWebPurchases          2.000000      4.000000      6.000000      27.000000  \n",
       "NumCatalogPurchases      0.000000      2.000000      4.000000      28.000000  \n",
       "NumStorePurchases        3.000000      5.000000      8.000000      13.000000  \n",
       "NumWebVisitsMonth        3.000000      6.000000      7.000000      20.000000  \n",
       "AcceptedCmp3             0.000000      0.000000      0.000000       1.000000  \n",
       "AcceptedCmp4             0.000000      0.000000      0.000000       1.000000  \n",
       "AcceptedCmp5             0.000000      0.000000      0.000000       1.000000  \n",
       "AcceptedCmp1             0.000000      0.000000      0.000000       1.000000  \n",
       "AcceptedCmp2             0.000000      0.000000      0.000000       1.000000  \n",
       "Complain                 0.000000      0.000000      0.000000       1.000000  \n",
       "Response                 0.000000      0.000000      0.000000       1.000000  \n",
       "Dt_Customer_Time       180.000000    355.500000    529.000000     699.000000  \n",
       "Alone                    0.000000      0.000000      1.000000       1.000000  \n",
       "Age                     37.000000     44.000000     55.000000     121.000000  \n",
       "Spent                   69.000000    396.500000   1048.000000    2525.000000  \n",
       "Children                 0.000000      1.000000      1.000000       3.000000  \n",
       "Family_Size              2.000000      3.000000      3.000000       5.000000  \n",
       "Is_Parent                0.000000      1.000000      1.000000       1.000000  \n",
       "Proportion               0.234558      0.800483      1.553341      70.698815  "
      ]
     },
     "execution_count": 21,
     "metadata": {},
     "output_type": "execute_result"
    }
   ],
   "source": [
    "# Statistical description of the data\n",
    "data.describe().T"
   ]
  },
  {
   "cell_type": "markdown",
   "id": "46d02892-dedb-492a-af1a-80b29c3d35c3",
   "metadata": {},
   "source": [
    "## 4.1 Data Visualization"
   ]
  },
  {
   "cell_type": "markdown",
   "id": "1e498ef5-2b8a-41d5-bcf0-f4bf10fbeb10",
   "metadata": {},
   "source": [
    "### Univariate analysis"
   ]
  },
  {
   "cell_type": "code",
   "execution_count": 22,
   "id": "2499d2e4-0638-4a85-968e-d272db509d7c",
   "metadata": {},
   "outputs": [
    {
     "data": {
      "image/png": "[encoded data removed]",
      "text/plain": [
       "<Figure size 1600x2400 with 30 Axes>"
      ]
     },
     "metadata": {},
     "output_type": "display_data"
    }
   ],
   "source": [
    "# Plot the distribution of features (histograms)\n",
    "fig , ax = plt.subplots(6, 5, figsize=(16, 24))\n",
    "for i in range(5):\n",
    "    for j in range(6):\n",
    "        sns.histplot(ax = ax[j,i], data=data, x=data.columns[i+5*j])\n",
    "plt.show()"
   ]
  },
  {
   "cell_type": "markdown",
   "id": "303cb7b6-fd5b-48df-b15c-2485c04cc2ea",
   "metadata": {},
   "source": [
    "### Bivariate analysis"
   ]
  },
  {
   "cell_type": "code",
   "execution_count": null,
   "id": "4105059e-194f-4803-b21b-b718d616eb1f",
   "metadata": {},
   "outputs": [
    {
     "data": {
      "text/plain": [
       "<Figure size 640x480 with 0 Axes>"
      ]
     },
     "metadata": {},
     "output_type": "display_data"
    }
   ],
   "source": [
    "# Choose some features to plot pairplots\n",
    "features_to_plot = [\"Income\", \"Recency\", \"Dt_Customer_Time\", \"Age\", \"Spent\", \"Proportion\", \"Is_Parent\"]\n",
    "\n",
    "plt.figure()\n",
    "sns.pairplot(data[features_to_plot])\n",
    "plt.show()"
   ]
  },
  {
   "cell_type": "code",
   "execution_count": null,
   "id": "5baa3d30-895c-4c2d-af04-82de452753f2",
   "metadata": {},
   "outputs": [],
   "source": [
    "# We see outliers in the Income and Age features, we will remove the outliers by setting a limit on Age and Income. \n",
    "data = data[(data[\"Age\"]<100)]\n",
    "data = data[(data[\"Income\"]<600000)]"
   ]
  },
  {
   "cell_type": "code",
   "execution_count": null,
   "id": "a4288a7e-2ac5-4161-8032-cf6fab368bf9",
   "metadata": {},
   "outputs": [],
   "source": [
    "# We still have some outliers with Income greater than 150000. Do they spend a relevant amount?\n",
    "sns.scatterplot(data=data, x= 'Income', y='Spent')"
   ]
  },
  {
   "cell_type": "markdown",
   "id": "f69afa3e-7cfd-44a2-8ca6-692ff8eea364",
   "metadata": {},
   "source": [
    "We decided to keep these 7 outlies with Income greater than 150000."
   ]
  },
  {
   "cell_type": "markdown",
   "id": "9d957c7b-ec51-4ded-9708-362a112ed0e8",
   "metadata": {},
   "source": [
    "## 4.2 Correlations between features"
   ]
  },
  {
   "cell_type": "code",
   "execution_count": null,
   "id": "7d34d125-f7e9-4fb6-b785-07fdc1f133b2",
   "metadata": {},
   "outputs": [],
   "source": [
    "# Let us look at the heat map of correlations between the features\n",
    "corr= data.corr(numeric_only=True)\n",
    "plt.figure(figsize=(20,20))  \n",
    "sns.heatmap(corr)\n",
    "plt.show()"
   ]
  },
  {
   "cell_type": "markdown",
   "id": "d8c55edf-6ccb-48d0-bbe2-368e9cdb1464",
   "metadata": {},
   "source": [
    "### Insights from the EDA:\n",
    "\n",
    "Customers who have higher Incomes tend to Spend more and accept more Campaigns.\n",
    "\n",
    "Features representing the amount Spent on a product are right-skewed. This means that most of the customers spent lower amounts, while some spent higher amounts of money. Particularly, wine represents the product type with the highest average amount spent.\n",
    "\n",
    "The store's campaigns are not being effective! The proportion of customers who accepted any of the campaigns is very low. This motivates our clustering analysis. By segmenting the customers, it will be possible to make targeted campaigns, improving this indicator.\n",
    "\n",
    "Most of the customers have no children. Some of them have 1 kidhome or teenhome. Very few have two. Moreover, most of the customers are graduates and have a partner.\n",
    "\n",
    "Teenhome and the number of deals purchases are moderately positively correlated. This indicates that customers who have more teenagers at home tend to search for discounts in their purchases.\n",
    "\n",
    "Campaigns 1 and 5 were effective in achieving higher-income customers concerning the amount spent on wine and meat products. It was possible to see that the proportion of customers who accepted campaigns was higher in higher amounts spent."
   ]
  },
  {
   "cell_type": "markdown",
   "id": "7d230e96-807a-4610-96fe-80f08b043ffc",
   "metadata": {},
   "source": [
    "# 5. Data Preprocessing\n",
    "\n",
    "We have already encoded the categorical features, so we have only numerical categories. The next step is to scale the features using the Standard Scaler."
   ]
  },
  {
   "cell_type": "code",
   "execution_count": null,
   "id": "2798d093-8d18-444f-846b-80a4780a50e2",
   "metadata": {},
   "outputs": [],
   "source": [
    "# Creating a copy of data\n",
    "ds = data.copy()\n",
    "\n",
    "# Creating a subset of the dataframe dropping the features on deals accepted, promotions and alone.\n",
    "cols_del = ['AcceptedCmp3', 'AcceptedCmp4', 'AcceptedCmp5', 'AcceptedCmp1','AcceptedCmp2', 'Complain', 'Response']\n",
    "ds = ds.drop(cols_del, axis=1)"
   ]
  },
  {
   "cell_type": "code",
   "execution_count": null,
   "id": "8f1df8a2-ffea-46b3-98d3-234e4043cfac",
   "metadata": {},
   "outputs": [],
   "source": [
    "# Scaling with Standard Scaler\n",
    "scaler = StandardScaler()\n",
    "scaler.fit(data)\n",
    "scaled_ds = pd.DataFrame(scaler.transform(data))"
   ]
  },
  {
   "cell_type": "code",
   "execution_count": null,
   "id": "68d97ae6-931d-4830-9b50-e83716729e49",
   "metadata": {},
   "outputs": [],
   "source": [
    "# Visualize the Dataframe to be used for further modeling.\n",
    "scaled_ds.head()"
   ]
  },
  {
   "cell_type": "markdown",
   "id": "fce763ed-10d5-48dd-abfc-f921b1d0b69d",
   "metadata": {},
   "source": [
    "# 6. Dimensionality reduction\n",
    "\n",
    "Our dataset has a large number of features and the higher the number of features, the harder it is to work with it. Many of these features are correlated and hence redundant. This is why we will be performing dimensionality reduction on the selected features before doing the classification (clustering).\n",
    "\n",
    "**Principal component analysis (PCA)** is a technique for reducing the dimensionality of such datasets, increasing interpretability but at the same time minimizing information loss."
   ]
  },
  {
   "cell_type": "code",
   "execution_count": null,
   "id": "f35785b7-7e3c-4047-a93d-08466736918b",
   "metadata": {},
   "outputs": [],
   "source": [
    "# Initiating PCA to reduce the dimentions of features to 3\n",
    "pca = PCA(n_components=3)\n",
    "\n",
    "# Fit to our dataset\n",
    "pca.fit(scaled_ds)\n",
    "\n",
    "# Consider the new dataset with 3 columns\n",
    "PCA_ds = pd.DataFrame(pca.transform(scaled_ds), columns = ['Col 1', 'Col 2', 'Col 3'])\n",
    "PCA_ds.describe().round(4)"
   ]
  },
  {
   "cell_type": "code",
   "execution_count": null,
   "id": "6a4ffc6a-09ba-47df-9ee9-f4439e5c83d1",
   "metadata": {},
   "outputs": [],
   "source": [
    "# A 3D Projection Of Data In The Reduced Dimension\n",
    "from mpl_toolkits.mplot3d import Axes3D\n",
    "\n",
    "x = PCA_ds['Col 1']\n",
    "y = PCA_ds['Col 2']\n",
    "z = PCA_ds['Col 3']\n",
    "\n",
    "# To plot\n",
    "fig = plt.figure(figsize=(10,8))\n",
    "ax = fig.add_subplot(111, projection=\"3d\")\n",
    "ax.scatter(x,y,z, marker=\"o\" )\n",
    "plt.show()"
   ]
  },
  {
   "cell_type": "markdown",
   "id": "a57c6af5-527e-49e3-84f5-9c1d61f06160",
   "metadata": {},
   "source": [
    "# 7. Clustering\n",
    "\n",
    "Now that we have reduced the attributes to three dimensions, we will perform the segregation task with the algorithm **K-means**. First, we want to see what is the ideal number of clusters using the Elbow Method."
   ]
  },
  {
   "cell_type": "code",
   "execution_count": null,
   "id": "6a92936a-f290-49f0-b7af-c31a0cbff77d",
   "metadata": {},
   "outputs": [],
   "source": [
    "# Elbow method to find the number of clusters to form.\n",
    "from yellowbrick.cluster import KElbowVisualizer\n",
    "\n",
    "Elbow_M = KElbowVisualizer(KMeans())\n",
    "Elbow_M.fit(PCA_ds)\n",
    "Elbow_M.show()"
   ]
  },
  {
   "cell_type": "markdown",
   "id": "08f8ce66-7b37-4a03-a438-4d6fb147019d",
   "metadata": {},
   "source": [
    "This method indicates that k=5 is an optimal number of clusters for this data."
   ]
  },
  {
   "cell_type": "code",
   "execution_count": null,
   "id": "dde0961c-23bc-4288-a3cb-f3249b679611",
   "metadata": {},
   "outputs": [],
   "source": [
    "# Initiating the K-means model:\n",
    "kmeans = KMeans(n_clusters=5, random_state=2)\n",
    "# Fit model and predict clusters\n",
    "kmeans.fit(PCA_ds)\n",
    "kmeans_pred = kmeans.labels_\n",
    "\n",
    "# Adding the Clusters to the dataset PCA_ds and to the original dataframe\n",
    "PCA_ds[\"Clusters\"] = kmeans_pred\n",
    "data[\"Clusters\"]= kmeans_pred"
   ]
  },
  {
   "cell_type": "code",
   "execution_count": null,
   "id": "5f74f2f7-7d7f-431c-b7ad-e0f6c6a9e836",
   "metadata": {},
   "outputs": [],
   "source": [
    "#Plotting the clusters\n",
    "fig = plt.figure(figsize=(8,6))\n",
    "ax = plt.subplot(111, projection='3d')\n",
    "ax.scatter(x, y, z, s=50, c=PCA_ds[\"Clusters\"], marker='o', cmap = 'rainbow_r')\n",
    "plt.savefig('3d_scatterplot.png')\n",
    "plt.show()"
   ]
  },
  {
   "cell_type": "markdown",
   "id": "ddab29ff-4511-4540-bfda-4d34732668b7",
   "metadata": {},
   "source": [
    "# 8. Analysis of the clusters\n",
    "\r",
    "The purpose of this section is to study the patterns in the clusters formed before."
   ]
  },
  {
   "cell_type": "code",
   "execution_count": null,
   "id": "4b5be3c4-1237-4b3f-a21b-7992716022b3",
   "metadata": {},
   "outputs": [],
   "source": [
    "# Choosing five colors to visualize (and rename) the Clusters\n",
    "pal = ['blue', 'green', 'red', 'pink', 'orange']\n",
    "\n",
    "# Plotting countplot of clusters\n",
    "sns.countplot(x=data[\"Clusters\"].sort_values(), palette= pal)\n",
    "plt.title(\"Distribution Of The Clusters\")\n",
    "plt.show()"
   ]
  },
  {
   "cell_type": "code",
   "execution_count": null,
   "id": "6e0dc5ba-83f8-4464-9468-02311b85a7b2",
   "metadata": {},
   "outputs": [],
   "source": [
    "# Dictionary of colors for the Clusters\n",
    "data[\"Clusters\"] = data[\"Clusters\"].astype(str)\n",
    "\n",
    "pal = {'0': 'blue', '1': 'green', '2': 'red', '3': 'pink', '4': 'orange'}"
   ]
  },
  {
   "cell_type": "markdown",
   "id": "d2c44883-e2a3-4c09-95f6-968af0114755",
   "metadata": {},
   "source": [
    "### Income and Spent inside each group"
   ]
  },
  {
   "cell_type": "code",
   "execution_count": null,
   "id": "548c4a9d-fabc-4ec9-b9ef-8677706ab832",
   "metadata": {},
   "outputs": [],
   "source": [
    "# Income vs Spent inside each cluster\n",
    "plt.figure(figsize=(8,6))\n",
    "sns.scatterplot(data = data,x=data[\"Income\"], y=data[\"Spent\"],hue=data[\"Clusters\"], palette = pal)\n",
    "plt.title('Spent x Income inside each group')\n",
    "plt.legend()\n",
    "plt.savefig('spent_income.png')\n",
    "plt.show()"
   ]
  },
  {
   "cell_type": "code",
   "execution_count": null,
   "id": "e33c952c-7ce7-48c3-b3d1-9ec1265d4d58",
   "metadata": {},
   "outputs": [],
   "source": [
    "# Visualize separately the Income in each group\n",
    "plt.figure()\n",
    "sns.boxplot(x=data[\"Clusters\"].sort_values(), y=data[\"Income\"], palette=pal)\n",
    "plt.title('Income inside each group')\n",
    "plt.show()"
   ]
  },
  {
   "cell_type": "code",
   "execution_count": null,
   "id": "8bb40f30-fdb1-4514-9c4f-83cbf514303f",
   "metadata": {},
   "outputs": [],
   "source": [
    "# Visualize separately the Spent in each group\n",
    "plt.figure()\n",
    "pl=sns.boxplot(x=data[\"Clusters\"].sort_values(), y=data[\"Spent\"], palette=pal)\n",
    "plt.title('Spent inside each group')\n",
    "plt.show()"
   ]
  },
  {
   "cell_type": "code",
   "execution_count": null,
   "id": "19a2eef9-428c-4cba-9d07-a6885a3d9627",
   "metadata": {},
   "outputs": [],
   "source": [
    "# Removing one outlier in Group 4 for Proportion\n",
    "data = data[(data[\"Proportion\"]<20)]\n",
    "\n",
    "# Visualize the Proportion in each group\n",
    "plt.figure()\n",
    "sns.boxplot(x=data[\"Clusters\"].sort_values(), y=data[\"Proportion\"], palette=pal)\n",
    "plt.title('Proportion of spent inside eachgroup')\n",
    "plt.show()"
   ]
  },
  {
   "cell_type": "markdown",
   "id": "5fede39f-9a3f-4d09-9a62-f3d06e241730",
   "metadata": {},
   "source": [
    "The visualization above shows the following **initial clusters patterns**:\n",
    "\n",
    "Group 3 (Pink): very low spending & very low income\n",
    "\r",
    "Group 0 (Blue): low spending & low income\n",
    "\n",
    "Group 2 (Red): medium spending & medium income\n",
    "\n",
    "Group 1 (Green):  high spending & high income\n",
    "\n",
    "Group 4 (Orange): very high spending & very high income"
   ]
  },
  {
   "cell_type": "code",
   "execution_count": null,
   "id": "888d074d-d2e9-4a84-9e3e-ed664deda86a",
   "metadata": {},
   "outputs": [],
   "source": [
    "#Creating a feature to get a sum of accepted promotions \n",
    "data[\"Total_Promos\"] = data[\"AcceptedCmp1\"]+ data[\"AcceptedCmp2\"]+ data[\"AcceptedCmp3\"]+ data[\"AcceptedCmp4\"]+ data[\"AcceptedCmp5\"]\n",
    "\n",
    "# The effect of the Promotions in each group\n",
    "plt.figure()\n",
    "sns.countplot(data=data, x=\"Total_Promos\", hue=\"Clusters\", palette=pal)\n",
    "plt.title('Number of adherence to promotions inside each group')\n",
    "plt.show()"
   ]
  },
  {
   "cell_type": "markdown",
   "id": "fd1d6413-727d-4f99-b043-6a38525f721c",
   "metadata": {},
   "source": [
    "Nobody participated in all the campaings. Group 4 (Orange) has higher participation in Campaings. "
   ]
  },
  {
   "cell_type": "code",
   "execution_count": null,
   "id": "3ebdc18f-774c-437b-aec2-e18b4f9e3011",
   "metadata": {},
   "outputs": [],
   "source": [
    "# The number of deals in each group\n",
    "plt.figure()\n",
    "sns.boxplot(y=data[\"NumDealsPurchases\"],x=data[\"Clusters\"].sort_values(), palette= pal)\n",
    "plt.title('Number of purchases inside each group')\n",
    "plt.show()"
   ]
  },
  {
   "cell_type": "markdown",
   "id": "ad347d82-1c60-4108-9ff2-d92fed4c8d50",
   "metadata": {},
   "source": [
    "The deals has best outcome with group 1 (green) and group 3 (pink). However, our star customers group 4 (orange) are not much into the deals. Nothing seems to attract group 2 (red) to deals."
   ]
  },
  {
   "cell_type": "markdown",
   "id": "80f8a513-d015-4e54-a842-c1b610843e50",
   "metadata": {},
   "source": [
    "### Personal information inside each group"
   ]
  },
  {
   "cell_type": "code",
   "execution_count": null,
   "id": "0b28a9e6-1da3-4ca7-8a64-435b31227463",
   "metadata": {},
   "outputs": [],
   "source": [
    "# List of features we consider as personal information\n",
    "Personal = [\"Kidhome\", \"Teenhome\", \"Dt_Customer_Time\", \"Age\", \"Children\", \"Family_Size\", \"Is_Parent\", \"Education\", \"Alone\"]"
   ]
  },
  {
   "cell_type": "code",
   "execution_count": null,
   "id": "ec709002-04b8-46a9-bbc6-a48dfee8350b",
   "metadata": {},
   "outputs": [],
   "source": [
    "Personal[4]"
   ]
  },
  {
   "cell_type": "code",
   "execution_count": null,
   "id": "d252fcbf-168f-4e34-a599-92cdbe308956",
   "metadata": {},
   "outputs": [],
   "source": [
    "# Plot the distribution of personal information (boxplots)\n",
    "fig , ax = plt.subplots(3, 3, figsize=(12, 12))\n",
    "for i in range(3):\n",
    "    for j in range(3):\n",
    "        sns.boxplot(ax = ax[j,i], x=data[\"Clusters\"].sort_values(), y=data[Personal[i+3*j]], palette=pal)\n",
    "plt.show()"
   ]
  },
  {
   "cell_type": "markdown",
   "id": "19b84a50-5884-4edc-b6b2-9fe4ec773eda",
   "metadata": {},
   "source": [
    "### Spent types inside each group"
   ]
  },
  {
   "cell_type": "code",
   "execution_count": null,
   "id": "c2632aa6-6ccb-4e64-bea8-9f72c4ce3b6f",
   "metadata": {},
   "outputs": [],
   "source": [
    "# List of spent in product types\n",
    "Product_types = [ \"MntWines\", 'MntFruits', \"MntMeatProducts\", \"MntFishProducts\", \"MntSweetProducts\", \"MntGoldProds\"] \n",
    "\n",
    "# Plot the distribution of spent types (boxplots)\n",
    "fig , ax = plt.subplots(2, 3, figsize=(14, 8))\n",
    "for i in range(3):\n",
    "    for j in range(2):\n",
    "        sns.boxplot(ax = ax[j,i], x=data[\"Clusters\"].sort_values(), y=data[Product_types[i+2*j]], palette=pal)\n",
    "plt.show()"
   ]
  },
  {
   "cell_type": "markdown",
   "id": "bf05771a-093e-40b5-82d9-6911e5a23982",
   "metadata": {},
   "source": [
    "### Type of purchases inside each group"
   ]
  },
  {
   "cell_type": "code",
   "execution_count": null,
   "id": "f2dfa4aa-0ab1-40a9-a2ac-bbbc767e61f2",
   "metadata": {},
   "outputs": [],
   "source": [
    "# List of spent in product types\n",
    "Purchase_types = ['NumDealsPurchases', 'NumWebPurchases', 'NumCatalogPurchases', 'NumStorePurchases'] \n",
    "\n",
    "# Plot the distribution of spent types (boxplots)\n",
    "fig , ax = plt.subplots(2, 2, figsize=(14, 8))\n",
    "for i in range(2):\n",
    "    for j in range(2):\n",
    "        sns.boxplot(ax = ax[i,j], x=data[\"Clusters\"].sort_values(), y=data[Purchase_types[i+2*j]], palette=pal)\n",
    "plt.show()"
   ]
  },
  {
   "cell_type": "markdown",
   "id": "d6c2b8dc-5980-492e-9390-e6ca99165f2c",
   "metadata": {},
   "source": [
    "# 9. Business insights and Recomendations to increase sales"
   ]
  },
  {
   "cell_type": "markdown",
   "id": "61d59ceb-018c-4d59-87e4-38c9461ecc83",
   "metadata": {},
   "source": [
    "### 9.1 Conclusions about the groups, to better understand the clientele\n",
    "\n",
    "I divided the customers into 5 groups according to their information and purchasing behaviors. These five groups have the following features:\n",
    "\n",
    "Group 0 (Blue)\n",
    "+ Customers in this cluster have a relatively low income and low monetary spending.\n",
    "+ They do not make many purchases.\n",
    "+ Many have one or more children, and they are not particularly inclined to accept campaigns.\n",
    "\n",
    "Group 1 (Green)\n",
    "+ Customers in this cluster have a relatively high income and monetary spending.\n",
    "+ They prefer web purchases.\n",
    "+ Some are receptive to campaigns, and many have one child.\n",
    "\n",
    "Group 2 (Red):\n",
    "+ This cluster consists of customers with an intermediary income and monetary spending.\n",
    "+ They prefer both store and web purchases.\n",
    "+ Most have one or more children, and they are not very likely to accept campaigns.\n",
    "\n",
    "Group 3 (Pink):\n",
    "+ This cluster includes younger individuals with very low income, low frequency, and low monetary spending.\n",
    "+ They make relatively small purchases.\n",
    "+ Most have one child, and they are not receptive to campaigns.\n",
    "\n",
    "Group 4 (Orange): \n",
    "+ These customers have a very high average income, moderate frequency and vary high monetary spending.\n",
    "+ They prefer in-store and catalog purchases and tend to visit the web less frequently.\n",
    "+ They are open to accepting campaign offers and typically have no children."
   ]
  },
  {
   "cell_type": "markdown",
   "id": "3f2722d4-f637-4a7c-a696-4157e81cec90",
   "metadata": {},
   "source": [
    "### 9.2 Recommendations for the Business\n",
    "\n",
    "We recommend:\n",
    "\n",
    "+ The creation of a loyalty program in order to assign distinct promotions to different groups of customers.\n",
    "+ To offer promotions for members of Groups 1 (blue) and Group 3 (pink), they can be identified as groups with more children at home. Maybe this grocery store is seen as a store for people with high Income, therefore does not encourage low Income people to buy there.\n",
    "+ We recommend promotions for basic food products, maybe family packs to encourage Groups 1 (blue) and 3 (pink) to spend more in this store.\n",
    "+ To Group 4 (Orange) we recommend offering promotions of Meal, Fishes, Fruits, since they already spent more on Wines and their Income allows them to spend more on other types of products.\n",
    "+ Act to decrease the Recency time, which is a high. For example, offering better prices for people who buy twice in the same month."
   ]
  },
  {
   "cell_type": "markdown",
   "id": "c4a4a731-e1e4-474e-9202-493c61b0f36e",
   "metadata": {},
   "source": [
    "# 10. Conclusion\n",
    "\n",
    "In this project, we performed unsupervised clustering, for this task we used dimensionality reduction (PCA) followed by K-means algorithm, that came with 5 clusters. \n",
    "\n",
    "We studied this segmentation according to similarities with the income/spent and family structure.\n",
    "\n",
    "Finally, we recommend a marketing strategies with differente promotions for different groups."
   ]
  }
 ],
 "metadata": {
  "kernelspec": {
   "display_name": "Python 3 (ipykernel)",
   "language": "python",
   "name": "python3"
  },
  "language_info": {
   "codemirror_mode": {
    "name": "ipython",
    "version": 3
   },
   "file_extension": ".py",
   "mimetype": "text/x-python",
   "name": "python",
   "nbconvert_exporter": "python",
   "pygments_lexer": "ipython3",
   "version": "3.11.7"
  }
 },
 "nbformat": 4,
 "nbformat_minor": 5
}
